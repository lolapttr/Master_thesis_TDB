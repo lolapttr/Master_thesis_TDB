{
 "cells": [
  {
   "cell_type": "code",
   "execution_count": 10,
   "metadata": {},
   "outputs": [],
   "source": [
    "import polars as pl\n",
    "import matplotlib.pyplot as plt\n",
    "import zipfile\n",
    "from datetime import datetime"
   ]
  },
  {
   "cell_type": "markdown",
   "metadata": {},
   "source": [
    "# Volume of SoR logged onto the TDB over a given timeperiod"
   ]
  },
  {
   "cell_type": "code",
   "execution_count": null,
   "metadata": {},
   "outputs": [],
   "source": [
    "#this function measures the volume of statements of reasons (SoR) that were logged on the Transparency Database (TDB) over a given timeperiod \n",
    "    #parameters: 1) the name of the platform\n",
    "    #            2) a list of months [(\"name\", \"year\", \"nbmonth\", firstDayMonth, lastDayMonth)], example: [(\"may\", \"2025\", \"05\", 1, 31)]\n",
    "    #TO ADAPT: when using the function yourself, be sure to adapt the beginning of the filepath to where your TDB files are\n",
    "\n",
    "def volumeCreatedAt(platform: str, listTimePeriod: list[tuple[str, str, str, int, int]]): \n",
    "    def volumeDay(platform, year: str, month: str, day: int):\n",
    "        day = str(day).zfill(2)     #converts day(int) as day(string) with two numbers (01 instead of 1)\n",
    "        filename = f\"/Volumes/Paresseux/{platform}/sor-{platform.lower()}-{year}-{month}-{day}-full.zip\"    #(TO ADAPT)\n",
    "        mother = zipfile.ZipFile(filename)\n",
    "        nbrows = [\n",
    "            pl.read_csv(child.open(csvfilename)).shape[0]\n",
    "            for childname in mother.namelist()\n",
    "            for child in [zipfile.ZipFile(mother.open(childname))]\n",
    "            for csvfilename in child.namelist()\n",
    "            ]\n",
    "        return sum(nbrows)\n",
    "    \n",
    "    sumtotal=0\n",
    "    for month in listTimePeriod:\n",
    "        print(f\"cumulative sum beginning of {month[0]} = {sumtotal}\")\n",
    "        summonth=0\n",
    "        for day in range(month[3], month[4]+1):\n",
    "            summonth=summonth+volumeDay(platform, month[1], month[2], day)\n",
    "        sumtotal=sumtotal+summonth\n",
    "\n",
    "    return sumtotal"
   ]
  },
  {
   "cell_type": "code",
   "execution_count": 6,
   "metadata": {},
   "outputs": [],
   "source": [
    "listThreads=[(\"september\", \"2024\", \"09\", 5, 30), (\"october\", \"2024\", \"10\", 1, 31), (\"november\", \"2024\", \"11\", 1, 30),\n",
    "              (\"december\", \"2024\", \"12\", 1, 31), (\"january\", \"2025\", \"01\", 1, 31), (\"february\", \"2025\", \"02\", 1, 28), \n",
    "              (\"march\", \"2025\", \"03\", 1, 12)]\n",
    "listWhatsApp=[(\"september\", \"2024\", \"09\", 17, 30), (\"october\", \"2024\", \"10\", 1, 31), (\"november\", \"2024\", \"11\", 1, 30),\n",
    "              (\"december\", \"2024\", \"12\", 1, 31), (\"january\", \"2025\", \"01\", 1, 31), (\"february\", \"2025\", \"02\", 1, 28), \n",
    "              (\"march\", \"2025\", \"03\", 1, 12)]\n",
    "listFBIN=[(\"april\", \"2024\", \"04\", 1, 30), (\"may\", \"2024\", \"05\", 1, 31), (\"june\", \"2024\", \"06\", 1, 30), (\"july\", \"2024\", \"07\", 1, 31),\n",
    "        (\"august\", \"2024\", \"08\", 1, 31), (\"september\", \"2024\", \"09\", 1, 30), (\"october\", \"2024\", \"10\", 1, 31), (\"november\", \"2024\", \"11\", 1, 30),\n",
    "        (\"december\", \"2024\", \"12\", 1, 31), (\"january\", \"2025\", \"01\", 1, 31), (\"february\", \"2025\", \"02\", 1, 28), (\"march\", \"2025\", \"03\", 1, 12)]"
   ]
  },
  {
   "cell_type": "code",
   "execution_count": 39,
   "metadata": {},
   "outputs": [
    {
     "name": "stdout",
     "output_type": "stream",
     "text": [
      "cumulative sum beginning of september=0\n",
      "cumulative sum beginning of october=29551\n",
      "cumulative sum beginning of november=85712\n",
      "cumulative sum beginning of december=199448\n",
      "cumulative sum beginning of january=303313\n",
      "cumulative sum beginning of february=396132\n",
      "cumulative sum beginning of march=477277\n"
     ]
    },
    {
     "data": {
      "text/plain": [
       "507617"
      ]
     },
     "execution_count": 39,
     "metadata": {},
     "output_type": "execute_result"
    }
   ],
   "source": [
    "volumeCreatedAt(\"Threads\", listThreads)"
   ]
  },
  {
   "cell_type": "code",
   "execution_count": 8,
   "metadata": {},
   "outputs": [
    {
     "name": "stdout",
     "output_type": "stream",
     "text": [
      "cumulative sum beginning of september = 0\n",
      "cumulative sum beginning of october = 2868\n",
      "cumulative sum beginning of november = 9545\n",
      "cumulative sum beginning of december = 17001\n",
      "cumulative sum beginning of january = 23200\n",
      "cumulative sum beginning of february = 28619\n",
      "cumulative sum beginning of march = 35014\n"
     ]
    },
    {
     "data": {
      "text/plain": [
       "38100"
      ]
     },
     "execution_count": 8,
     "metadata": {},
     "output_type": "execute_result"
    }
   ],
   "source": [
    "volumeCreatedAt(\"Whatsapp-channels\", listWhatsApp)"
   ]
  },
  {
   "cell_type": "code",
   "execution_count": 41,
   "metadata": {},
   "outputs": [
    {
     "name": "stdout",
     "output_type": "stream",
     "text": [
      "cumulative sum beginning of april=0\n",
      "cumulative sum beginning of may=32388084\n",
      "cumulative sum beginning of june=66338045\n",
      "cumulative sum beginning of july=99695080\n",
      "cumulative sum beginning of august=139760622\n",
      "cumulative sum beginning of september=179754834\n",
      "cumulative sum beginning of october=218866761\n",
      "cumulative sum beginning of november=260597812\n",
      "cumulative sum beginning of december=334125404\n",
      "cumulative sum beginning of january=422250604\n",
      "cumulative sum beginning of february=491927834\n",
      "cumulative sum beginning of march=542636204\n"
     ]
    },
    {
     "data": {
      "text/plain": [
       "556346995"
      ]
     },
     "execution_count": 41,
     "metadata": {},
     "output_type": "execute_result"
    }
   ],
   "source": [
    "volumeCreatedAt(\"Facebook\", listFBIN)"
   ]
  },
  {
   "cell_type": "code",
   "execution_count": 42,
   "metadata": {},
   "outputs": [
    {
     "name": "stdout",
     "output_type": "stream",
     "text": [
      "cumulative sum beginning of april=0\n",
      "cumulative sum beginning of may=2778216\n",
      "cumulative sum beginning of june=5671237\n",
      "cumulative sum beginning of july=8241875\n",
      "cumulative sum beginning of august=11973829\n",
      "cumulative sum beginning of september=16790703\n",
      "cumulative sum beginning of october=21372505\n",
      "cumulative sum beginning of november=30676899\n",
      "cumulative sum beginning of december=38859448\n",
      "cumulative sum beginning of january=50623549\n",
      "cumulative sum beginning of february=62760007\n",
      "cumulative sum beginning of march=74223768\n"
     ]
    },
    {
     "data": {
      "text/plain": [
       "78723336"
      ]
     },
     "execution_count": 42,
     "metadata": {},
     "output_type": "execute_result"
    }
   ],
   "source": [
    "volumeCreatedAt(\"Instagram\", listFBIN)"
   ]
  },
  {
   "cell_type": "code",
   "execution_count": 9,
   "metadata": {},
   "outputs": [
    {
     "name": "stdout",
     "output_type": "stream",
     "text": [
      "635616048\n"
     ]
    }
   ],
   "source": [
    "total=78723336+556346995+38100+507617\n",
    "print(total)"
   ]
  },
  {
   "cell_type": "markdown",
   "metadata": {},
   "source": [
    "# Volume of SoR over a given timeperiod, whose application_date is between startdate and lastdate"
   ]
  },
  {
   "cell_type": "code",
   "execution_count": null,
   "metadata": {},
   "outputs": [],
   "source": [
    "#this function measures the volume of statements of reasons (SoR) over a given timeperiod \n",
    "#but ensures that their application_date stays within the first and last dates of the period\n",
    "    #parameters: 1) the name of the platform\n",
    "    #            2) a list of months [(\"name\", \"year\", \"nbmonth\", firstDayMonth, lastDayMonth)], example: [(\"may\", \"2025\", \"05\", 1, 31)]\n",
    "    #            3-4) the first and last days of the interval as datetimes, example: datetime(2025, 5, 1), datetime(2025, 5, 31)\n",
    "    #TO ADAPT: when using the function yourself, be sure to adapt the beginning of the filepath to where your TDB files are\n",
    "\n",
    "def volumeApplicationDate(platform: str, listTimePeriod: list[tuple[str, str, str, int, int]], startdate: datetime, lastdate:datetime): \n",
    "\n",
    "    def volumeDay(platform, year: str, month: str, day: int):\n",
    "        day = str(day).zfill(2)     #converts day(int) as day(string) with two numbers (01 instead of 1)\n",
    "        filename = f\"/Volumes/Paresseux/{platform}/sor-{platform.lower()}-{year}-{month}-{day}-full.zip\"    #(TO ADAPT)\n",
    "        mother = zipfile.ZipFile(filename)\n",
    "        nbrows = [\n",
    "            (pl.scan_csv(child.open(csvfilename))\n",
    "             .filter((pl.col(\"application_date\").str.to_datetime()>=startdate)\n",
    "                     .and_(pl.col(\"application_date\").str.to_datetime()<=lastdate))\n",
    "             .select(pl.len()).collect().item())\n",
    "            for childname in mother.namelist()\n",
    "            for child in [zipfile.ZipFile(mother.open(childname))]\n",
    "            for csvfilename in child.namelist()\n",
    "            ]\n",
    "        return sum(nbrows)\n",
    "    \n",
    "    sumtotal=0\n",
    "    for month in listTimePeriod:\n",
    "        print(f\"cumulative sum beginning of {month[0]} = {sumtotal}\")\n",
    "        summonth=0\n",
    "        for day in range(month[3], month[4]+1):\n",
    "            summonth=summonth+volumeDay(platform, month[1], month[2], day)\n",
    "        sumtotal=sumtotal+summonth\n",
    "\n",
    "    return sumtotal"
   ]
  },
  {
   "cell_type": "code",
   "execution_count": 14,
   "metadata": {},
   "outputs": [
    {
     "name": "stdout",
     "output_type": "stream",
     "text": [
      "cumulative sum beginning of april = 0\n",
      "cumulative sum beginning of may = 2705064\n",
      "cumulative sum beginning of june = 5598085\n",
      "cumulative sum beginning of july = 8168723\n",
      "cumulative sum beginning of august = 11900677\n",
      "cumulative sum beginning of september = 16717551\n",
      "cumulative sum beginning of october = 21299353\n",
      "cumulative sum beginning of november = 30603747\n",
      "cumulative sum beginning of december = 38786296\n",
      "cumulative sum beginning of january = 50550397\n",
      "cumulative sum beginning of february = 62686855\n",
      "cumulative sum beginning of march = 74150616\n"
     ]
    },
    {
     "data": {
      "text/plain": [
       "76614154"
      ]
     },
     "execution_count": 14,
     "metadata": {},
     "output_type": "execute_result"
    }
   ],
   "source": [
    "volumeApplicationDate(\"Instagram\", listFBIN, datetime(2024, 4, 1), datetime(2025, 3, 6))"
   ]
  },
  {
   "cell_type": "code",
   "execution_count": 15,
   "metadata": {},
   "outputs": [
    {
     "name": "stdout",
     "output_type": "stream",
     "text": [
      "cumulative sum beginning of april = 0\n",
      "cumulative sum beginning of may = 31762710\n",
      "cumulative sum beginning of june = 65712671\n",
      "cumulative sum beginning of july = 99069706\n",
      "cumulative sum beginning of august = 139135248\n",
      "cumulative sum beginning of september = 179129460\n",
      "cumulative sum beginning of october = 218241387\n",
      "cumulative sum beginning of november = 259972438\n",
      "cumulative sum beginning of december = 333500030\n",
      "cumulative sum beginning of january = 421625230\n",
      "cumulative sum beginning of february = 491302460\n",
      "cumulative sum beginning of march = 542010830\n"
     ]
    },
    {
     "data": {
      "text/plain": [
       "548040877"
      ]
     },
     "execution_count": 15,
     "metadata": {},
     "output_type": "execute_result"
    }
   ],
   "source": [
    "volumeApplicationDate(\"Facebook\", listFBIN, datetime(2024, 4, 1), datetime(2025, 3, 6))"
   ]
  },
  {
   "cell_type": "code",
   "execution_count": 16,
   "metadata": {},
   "outputs": [
    {
     "name": "stdout",
     "output_type": "stream",
     "text": [
      "cumulative sum beginning of september = 0\n",
      "cumulative sum beginning of october = 28503\n",
      "cumulative sum beginning of november = 84664\n",
      "cumulative sum beginning of december = 198400\n",
      "cumulative sum beginning of january = 302265\n",
      "cumulative sum beginning of february = 395084\n",
      "cumulative sum beginning of march = 476229\n"
     ]
    },
    {
     "data": {
      "text/plain": [
       "490955"
      ]
     },
     "execution_count": 16,
     "metadata": {},
     "output_type": "execute_result"
    }
   ],
   "source": [
    "volumeApplicationDate(\"Threads\", listThreads, datetime(2024, 9, 5), datetime(2025, 3, 6))"
   ]
  },
  {
   "cell_type": "code",
   "execution_count": 17,
   "metadata": {},
   "outputs": [
    {
     "name": "stdout",
     "output_type": "stream",
     "text": [
      "cumulative sum beginning of september = 0\n",
      "cumulative sum beginning of october = 2488\n",
      "cumulative sum beginning of november = 9165\n",
      "cumulative sum beginning of december = 16621\n",
      "cumulative sum beginning of january = 22820\n",
      "cumulative sum beginning of february = 28239\n",
      "cumulative sum beginning of march = 34634\n"
     ]
    },
    {
     "data": {
      "text/plain": [
       "36160"
      ]
     },
     "execution_count": 17,
     "metadata": {},
     "output_type": "execute_result"
    }
   ],
   "source": [
    "volumeApplicationDate(\"Whatsapp-channels\", listWhatsApp, datetime(2024, 9, 17), datetime(2025, 3, 6))"
   ]
  },
  {
   "cell_type": "code",
   "execution_count": 19,
   "metadata": {},
   "outputs": [
    {
     "name": "stdout",
     "output_type": "stream",
     "text": [
      "625182146\n"
     ]
    }
   ],
   "source": [
    "total=76614154+548040877+490955+36160\n",
    "print(total)"
   ]
  }
 ],
 "metadata": {
  "kernelspec": {
   "display_name": "base",
   "language": "python",
   "name": "python3"
  },
  "language_info": {
   "codemirror_mode": {
    "name": "ipython",
    "version": 3
   },
   "file_extension": ".py",
   "mimetype": "text/x-python",
   "name": "python",
   "nbconvert_exporter": "python",
   "pygments_lexer": "ipython3",
   "version": "3.12.2"
  }
 },
 "nbformat": 4,
 "nbformat_minor": 2
}
