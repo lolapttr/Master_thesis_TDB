{
 "cells": [
  {
   "cell_type": "code",
   "execution_count": 2,
   "id": "ebd0e3a8",
   "metadata": {},
   "outputs": [],
   "source": [
    "import polars as pl\n",
    "import matplotlib.pyplot as plt\n",
    "import zipfile\n",
    "from datetime import datetime"
   ]
  },
  {
   "cell_type": "code",
   "execution_count": null,
   "id": "73b3b5df",
   "metadata": {},
   "outputs": [],
   "source": [
    "#List of the timeperiod under study\n",
    "listDetailedMonthsAprSept=[(\"april\", \"2024\", \"04\", 1, 15), (\"april\", \"2024\", \"04\", 16, 30),\n",
    "                   (\"may\", \"2024\", \"05\", 1, 15), (\"may\", \"2024\", \"05\", 16, 31),\n",
    "                   (\"june\", \"2024\", \"06\", 1, 15), (\"june\", \"2024\", \"06\", 16, 30),\n",
    "                   (\"july\", \"2024\", \"07\", 1, 15),(\"july\", \"2024\", \"07\", 16, 31),\n",
    "                   (\"august\", \"2024\", \"08\", 1, 15), (\"august\", \"2024\", \"08\", 16, 31),\n",
    "                   (\"september\", \"2024\", \"09\", 1, 15),(\"september\", \"2024\", \"09\", 16, 22),(\"september\", \"2024\", \"09\", 23, 30),\n",
    "                   (\"october\", \"2024\", \"10\", 1, 6)]"
   ]
  },
  {
   "cell_type": "markdown",
   "id": "625f3631",
   "metadata": {},
   "source": [
    "# Figure 10 - Article 16 notices"
   ]
  },
  {
   "cell_type": "code",
   "execution_count": null,
   "id": "f191d96f",
   "metadata": {},
   "outputs": [],
   "source": [
    "#This function converts a given df's str column to datetime\n",
    "def convertStrToDatetime(df, datecolumnstr):   \n",
    "    return df.with_columns(df[datecolumnstr].str.to_datetime())\n",
    "\n",
    "#This function scans zipped CSV files and collects only the rows that match col=wantedvalue (given in the parameters)\n",
    "def filterTimePeriod(platform, listMonths, col, wantedvalue): \n",
    "    #this function scans the csvs logged on a given day and returns a filtered df along a given variable in a given column\n",
    "    def filterDay(platform, year, month, day, col, wantedvalue) -> pl.DataFrame:    \n",
    "        day = str(day).zfill(2)     #converts day(int) as day(string) with two numbers (01 instead of 1)\n",
    "        filename = f\"/Volumes/Paresseux/{platform}/sor-{platform.lower()}-{year}-{month}-{day}-full.zip\"\n",
    "        mother = zipfile.ZipFile(filename)\n",
    "        dfs = [\n",
    "            pl.scan_csv(child.open(csvfilename)).filter(pl.col(col)==wantedvalue).collect()\n",
    "            for childname in mother.namelist()\n",
    "            for child in [zipfile.ZipFile(mother.open(childname))]\n",
    "            for csvfilename in child.namelist()\n",
    "            ]\n",
    "        return pl.concat(dfs)\n",
    "\n",
    "    #this function automates filterDay over a month\n",
    "    def filterMonth(platform, year, month, firstDayMonth, lastDayMonth, col, wantedvalue): \n",
    "        df=pl.DataFrame()  \n",
    "        df=pl.concat([filterDay(platform, year, month, day, col, wantedvalue) \n",
    "                                        for day in range(firstDayMonth, lastDayMonth+1)])\n",
    "        return df\n",
    "\n",
    "    df=pl.DataFrame()\n",
    "    for month in listMonths:\n",
    "        print(f\"{month} running\")\n",
    "        df_month=filterMonth(platform, month[1], month[2], month[3], month[4], col, wantedvalue)\n",
    "        df=pl.concat([df, df_month])\n",
    "    return df"
   ]
  },
  {
   "cell_type": "code",
   "execution_count": null,
   "id": "94a74fa8",
   "metadata": {},
   "outputs": [],
   "source": [
    "#choose either Facebook or Instagram as data\n",
    "\n",
    "#FACEBOOK DATA\n",
    "df_16=filterTimePeriod(\"Facebook\", listDetailedMonthsAprSept, \"source_type\", \"SOURCE_ARTICLE_16\")\n",
    "\n",
    "#INSTAGRAM DATA\n",
    "df_16=filterTimePeriod(\"Facebook\", listDetailedMonthsAprSept, \"source_type\", \"SOURCE_ARTICLE_16\")\n",
    "\n",
    "df_16=convertStrToDatetime(df_16, \"application_date\")\n",
    "df16_righttime=df_16.filter((pl.col(\"application_date\")>=datetime(2024, 4, 1)).and_(pl.col(\"application_date\")<=datetime(2024, 9, 30)))"
   ]
  },
  {
   "cell_type": "code",
   "execution_count": null,
   "id": "8e795678",
   "metadata": {},
   "outputs": [],
   "source": [
    "pl.Config(tbl_rows=14) #to be able to visualise the 14 rows\n",
    "\n",
    "#column 3: \"incompatible content\" as ground and \"removed\" as sanction\n",
    "df_col3= df16_righttime.filter((pl.col(\"decision_ground\")==\"DECISION_GROUND_INCOMPATIBLE_CONTENT\").and_(pl.col(\"decision_visibility\")==\"[\\\"DECISION_VISIBILITY_CONTENT_REMOVED\\\"]\"))\n",
    "df_col3[\"category\"].len() #total\n",
    "df_col3[\"category\"].value_counts().sort(by=\"category\") #total per category\n",
    "\n",
    "#column 4: \"illegal content\" as ground\n",
    "df_col4=df16_righttime.filter(pl.col(\"decision_ground\")==\"DECISION_GROUND_ILLEGAL_CONTENT\")\n",
    "df_col4[\"category\"].len() #total\n",
    "df_col4[\"category\"].value_counts().sort(by=\"category\") #total per category"
   ]
  },
  {
   "cell_type": "markdown",
   "id": "46ed1731",
   "metadata": {},
   "source": [
    "# Figure 11 - Types of sanction"
   ]
  },
  {
   "cell_type": "code",
   "execution_count": 15,
   "id": "30c6b7c0",
   "metadata": {},
   "outputs": [],
   "source": [
    "#this function takes a df and drops the hours in datetimecolumn (datetime->date)\n",
    "def dropHours(df, datetimecolumn):    \n",
    "    return df.with_columns(pl.col(datetimecolumn).dt.date())\n",
    "\n",
    "#this function scans the csvs over several given months \n",
    "#and returns a dictionnary of dfs, one per selected variables (except the timeindex) \n",
    "def scanSeveralMonthsSummary(platform, listMonths, listVariablesToSelect, timeindex, drophours: bool): \n",
    "    def scanDaySummary(platform, year, month, day, listVariablesToSelect, timeindex, drophours: bool) -> pl.DataFrame:    \n",
    "        day = str(day).zfill(2)     #converts day(int) as day(string) with two numbers (01 instead of 1)\n",
    "        filename = f\"/Volumes/Paresseux/{platform}/sor-{platform.lower()}-{year}-{month}-{day}-full.zip\"\n",
    "        mother = zipfile.ZipFile(filename)\n",
    "        dfs = [\n",
    "            pl.scan_csv(child.open(csvfilename)).select(listVariablesToSelect).collect()\n",
    "            for childname in mother.namelist()\n",
    "            for child in [zipfile.ZipFile(mother.open(childname))]\n",
    "            for csvfilename in child.namelist()\n",
    "            ]\n",
    "        if drophours==True:\n",
    "            return dropHours(convertStrToDatetime(pl.concat(dfs), timeindex), timeindex)\n",
    "        else:\n",
    "            return convertStrToDatetime(pl.concat(dfs), timeindex)\n",
    "    \n",
    "    ##test to be quicker\n",
    "    def scanMonthSummary(platform, year, month, firstDayMonth, lastDayMonth, listVariablesToSelect: list, timeindex, drophours: bool):   \n",
    "        listvariables=listVariablesToSelect.copy()\n",
    "        listvariables.remove(timeindex)\n",
    "\n",
    "        dict_df={}\n",
    "        for variable in listvariables:\n",
    "            dict_df[variable]=pl.DataFrame()\n",
    "        \n",
    "        for day in range(firstDayMonth, lastDayMonth+1):\n",
    "            df_day=scanDaySummary(platform, year, month, day, listVariablesToSelect, timeindex, drophours)\n",
    "            for variable in listvariables:\n",
    "                dict_df[variable]=pl.concat([dict_df[variable], df_day.group_by([timeindex, variable]).len().sort(by=timeindex)])\n",
    "        return dict_df\n",
    "    \n",
    "    listvariables=listVariablesToSelect.copy()\n",
    "    listvariables.remove(timeindex)\n",
    "    dict_df={}\n",
    "    for variable in listvariables:\n",
    "        dict_df[variable]=pl.DataFrame()\n",
    "    for month in listMonths:\n",
    "        print(f\"{month} running\")\n",
    "        dic_month=scanMonthSummary(platform, month[1], month[2], month[3], month[4], listVariablesToSelect, timeindex, drophours)\n",
    "        for variable in listvariables:\n",
    "            dict_df[variable]=pl.concat([dict_df[variable], dic_month[variable]])\n",
    "    return dict_df\n",
    "\n",
    "#this function takes a dictionnary of dfs, and returns a cleaned table counting the modalities of selectedVariable per day in timeindex, \n",
    "#with the additional columns of a daily sum and the associated percentage\n",
    "def formatDict(dict_df, selectedVariable, timeindex):   \n",
    "    df=dict_df[selectedVariable].group_by([timeindex, selectedVariable]).sum().sort(by=timeindex)\n",
    "    df_sum=df.group_by(timeindex).sum().with_columns(pl.col(\"len\").alias(\"daily_sum\")).drop(\"len\")  #create a daily_sum column\n",
    "    df_final=df.join(df_sum, on=timeindex, how=\"left\") #adds the daily_sum to each row\n",
    "    df_final=df_final.with_columns((pl.col(\"len\")/pl.col(\"daily_sum\")).alias(\"%_sum\"))  #create the %_sum column\n",
    "    return df_final"
   ]
  },
  {
   "cell_type": "code",
   "execution_count": null,
   "id": "95a5f808",
   "metadata": {},
   "outputs": [],
   "source": [
    "#choose either Facebook or Instagram as data\n",
    "\n",
    "#FACEBOOK DATA\n",
    "dict_df_decisions= scanSeveralMonthsSummary(\"Facebook\", listDetailedMonthsAprSept, \n",
    "                                            [\"application_date\", \"decision_visibility\", \"decision_account\"],\n",
    "                                            \"application_date\", drophours=True)\n",
    "\n",
    "#INSTAGRAM DATA\n",
    "dict_df_decisions= scanSeveralMonthsSummary(\"Instagram\", listDetailedMonthsAprSept, \n",
    "                                            [\"application_date\", \"decision_visibility\", \"decision_account\"],\n",
    "                                            \"application_date\", drophours=True)\n",
    "\n",
    "df_vis=formatDict(dict_df_decisions, \"decision_visibility\", \"application_date\")\n",
    "df_acc=formatDict(dict_df_decisions, \"decision_account\", \"application_date\")"
   ]
  },
  {
   "cell_type": "code",
   "execution_count": null,
   "id": "c7914fdc",
   "metadata": {},
   "outputs": [],
   "source": [
    "#the volume can be read in the \"len\" column\n",
    "\n",
    "(df_vis\n",
    " .filter((pl.col(\"application_date\")>=datetime(2024, 4, 1)).and_(pl.col(\"application_date\")<=datetime(2024, 9, 30)))\n",
    " .filter(pl.col(\"decision_visibility\")==\"[\\\"DECISION_VISIBILITY_CONTENT_DEMOTED\\\"]\").sum()\n",
    ")\n",
    "\n",
    "(df_vis\n",
    " .filter((pl.col(\"application_date\")>=datetime(2024, 4, 1)).and_(pl.col(\"application_date\")<=datetime(2024, 9, 30)))\n",
    " .filter(pl.col(\"decision_visibility\")==\"[\\\"DECISION_VISIBILITY_CONTENT_REMOVED\\\"]\").sum()\n",
    ")\n",
    "\n",
    "(df_acc\n",
    " .filter((pl.col(\"application_date\")>=datetime(2024, 4, 1)).and_(pl.col(\"application_date\")<=datetime(2024, 9, 30)))\n",
    " .filter(pl.col(\"decision_account\")==\"DECISION_ACCOUNT_TERMINATED\").sum()\n",
    ")"
   ]
  }
 ],
 "metadata": {
  "kernelspec": {
   "display_name": "base",
   "language": "python",
   "name": "python3"
  },
  "language_info": {
   "codemirror_mode": {
    "name": "ipython",
    "version": 3
   },
   "file_extension": ".py",
   "mimetype": "text/x-python",
   "name": "python",
   "nbconvert_exporter": "python",
   "pygments_lexer": "ipython3",
   "version": "3.12.2"
  }
 },
 "nbformat": 4,
 "nbformat_minor": 5
}
